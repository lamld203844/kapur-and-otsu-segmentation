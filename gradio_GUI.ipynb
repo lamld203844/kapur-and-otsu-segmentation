{
  "cells": [
    {
      "cell_type": "markdown",
      "metadata": {
        "id": "view-in-github",
        "colab_type": "text"
      },
      "source": [
        "<a href=\"https://colab.research.google.com/github/lamld203844/kapur-and-otsu-segmentation/blob/main/gradio_GUI.ipynb\" target=\"_parent\"><img src=\"https://colab.research.google.com/assets/colab-badge.svg\" alt=\"Open In Colab\"/></a>"
      ]
    },
    {
      "cell_type": "code",
      "execution_count": 1,
      "metadata": {
        "id": "cSjGME8x4bda"
      },
      "outputs": [],
      "source": [
        "!pip install -q gradio"
      ]
    },
    {
      "cell_type": "code",
      "execution_count": 2,
      "metadata": {
        "id": "kx4fHd0nj44D"
      },
      "outputs": [],
      "source": [
        "# Install watermark\n",
        "!pip install -q watermark"
      ]
    },
    {
      "cell_type": "code",
      "execution_count": 3,
      "metadata": {
        "colab": {
          "base_uri": "https://localhost:8080/"
        },
        "id": "oithBATekXAd",
        "outputId": "1bf6069e-f601-4366-adc7-22081819b58c"
      },
      "outputs": [
        {
          "output_type": "stream",
          "name": "stdout",
          "text": [
            "Python implementation: CPython\n",
            "Python version       : 3.10.12\n",
            "IPython version      : 7.34.0\n",
            "\n",
            "gradio    : 4.15.0\n",
            "cv2       : 4.8.0\n",
            "numpy     : 1.23.5\n",
            "matplotlib: 3.7.1\n",
            "PIL       : 9.4.0\n",
            "scipy     : 1.11.4\n",
            "skimage   : 0.19.3\n",
            "\n"
          ]
        }
      ],
      "source": [
        "# Load watermark\n",
        "%load_ext watermark\n",
        "\n",
        "# Display the version of Python and Gradio\n",
        "%watermark -v -p gradio,cv2,numpy,matplotlib,PIL,scipy,skimage"
      ]
    },
    {
      "cell_type": "code",
      "execution_count": 4,
      "metadata": {
        "id": "LcQ64BK9kmDs"
      },
      "outputs": [],
      "source": [
        "import gradio as gr\n",
        "import numpy as np\n",
        "import matplotlib.pyplot as plt\n",
        "from PIL import Image\n",
        "import cv2\n",
        "\n",
        "from scipy.ndimage import median_filter\n",
        "from skimage.filters import threshold_multiotsu\n",
        "from skimage.filters import threshold_otsu\n",
        "\n",
        "%matplotlib inline"
      ]
    },
    {
      "cell_type": "code",
      "execution_count": 5,
      "metadata": {
        "id": "UmSQ4z8XzizM"
      },
      "outputs": [],
      "source": [
        "def calculate_psnr(input_image):\n",
        "    # Convert the input image to grayscale\n",
        "    gray_image = cv2.cvtColor(input_image, cv2.COLOR_BGR2GRAY)\n",
        "\n",
        "    # Calculate MSE\n",
        "    mse = np.mean((gray_image.astype(np.float64) / 255) ** 2)\n",
        "    if mse == 0:\n",
        "        return \"Same Image\"\n",
        "\n",
        "    # Calculate PSNR\n",
        "    PIXEL_MAX = 255.0\n",
        "    psnr = 20 * np.log10(PIXEL_MAX) - 10 * np.log10(mse)\n",
        "\n",
        "    return psnr\n",
        "\n",
        "\n",
        "def plot_histogram(img):\n",
        "    # Flatten the image into 1 dimension: change shape (a,b,c) to (abc,)\n",
        "    pixels = img.flatten()\n",
        "\n",
        "    # Create histogram\n",
        "    fig, ax = plt.subplots()\n",
        "    ax.hist(pixels, bins=256, range=[0,256], color ='black', alpha=0.7)\n",
        "\n",
        "    ax.set_title('Histogram')\n",
        "    ax.set_xlabel('Pixel Intensity')\n",
        "    ax.set_ylabel('Frequency')\n",
        "\n",
        "    plt.close(fig)  # Close the figure so it won't display in your Python environment\n",
        "\n",
        "    return fig\n",
        "\n",
        "\n",
        "def basic_preprocessing(input_image, kernel_size=3):\n",
        "    \"\"\"\n",
        "    Preprocessing: average, median filter, and histogram equalization with size and\n",
        "    shape of the mask should be selected.((kernel_size = 3 by default))\n",
        "    \"\"\"\n",
        "\n",
        "    # Convert the input image to grayscale\n",
        "    gray_image = cv2.cvtColor(input_image, cv2.COLOR_BGR2GRAY)\n",
        "\n",
        "    # Apply average filter\n",
        "    blurred_image = cv2.blur(gray_image, (kernel_size, kernel_size))\n",
        "\n",
        "    # Apply median filter\n",
        "    median_filtered_image = median_filter(blurred_image, size=kernel_size)\n",
        "\n",
        "    return blurred_image, median_filtered_image"
      ]
    },
    {
      "cell_type": "code",
      "source": [
        "def kapur_segment(input_image):\n",
        "    # Convert the input image to grayscale\n",
        "    gray_image = cv2.cvtColor(input_image, cv2.COLOR_BGR2GRAY)\n",
        "\n",
        "    # Normalize to 0 - 255\n",
        "    image = cv2.normalize(gray_image, None, alpha=0, beta=255, norm_type=cv2.NORM_MINMAX)\n",
        "\n",
        "    # Apply Kapur's method\n",
        "    thresholds = threshold_multiotsu(image)\n",
        "\n",
        "    # Apply the thresholds to get a segmented image\n",
        "    segmented_image = np.digitize(image, bins=thresholds)\n",
        "\n",
        "    # Map the segmented image from 0-255\n",
        "    segmented_image = ((segmented_image / segmented_image.max()) * 255).astype(np.uint8)\n",
        "\n",
        "    # Convert the segmented image to a 3-channel image\n",
        "    segmented_3_channel = cv2.cvtColor(segmented_image, cv2.COLOR_GRAY2BGR)\n",
        "\n",
        "    return segmented_3_channel"
      ],
      "metadata": {
        "id": "Q-abN4zDuFvs"
      },
      "execution_count": 6,
      "outputs": []
    },
    {
      "cell_type": "code",
      "source": [
        "def otsu_segment(input_image):\n",
        "    # Convert the input image to grayscale\n",
        "    gray_image = cv2.cvtColor(input_image, cv2.COLOR_BGR2GRAY)\n",
        "\n",
        "    # Normalize to 0 - 255\n",
        "    image = cv2.normalize(gray_image, None, alpha=0, beta=255, norm_type=cv2.NORM_MINMAX)\n",
        "\n",
        "    # Apply Otsu's thresholding\n",
        "    thresh = threshold_otsu(image)\n",
        "    binary = image > thresh\n",
        "\n",
        "    return binary"
      ],
      "metadata": {
        "id": "fwU4u6VRnlno"
      },
      "execution_count": 7,
      "outputs": []
    },
    {
      "cell_type": "code",
      "source": [
        "def main_function(img):\n",
        "\n",
        "    # basic img information\n",
        "    info = f\"Type of image {type(img)}, shape = {img.shape}\"\n",
        "\n",
        "    # Display histogram\n",
        "    fig = plot_histogram(img)\n",
        "\n",
        "    # basic preprocessing\n",
        "    average_filtered_img, median_filtered_img = basic_preprocessing(img)\n",
        "\n",
        "    # psnr value\n",
        "    psnr = calculate_psnr(img)\n",
        "    psnr_value = f'PSNR value = {psnr}'\n",
        "\n",
        "    # segmentation Kapur method\n",
        "    kapur_seg_mask = kapur_segment(img)\n",
        "\n",
        "    # segmentation otsu method\n",
        "    otsu_seg_mask = otsu_segment(img)\n",
        "    otsu_img = cv2.cvtColor((otsu_seg_mask * 255).astype(np.uint8), cv2.COLOR_GRAY2BGR) # Convert binary mask to a 3-channel image\n",
        "\n",
        "\n",
        "    return info, fig, average_filtered_img, median_filtered_img, psnr_value, kapur_seg_mask, otsu_img"
      ],
      "metadata": {
        "id": "LkBrFIEec6n4"
      },
      "execution_count": 8,
      "outputs": []
    },
    {
      "cell_type": "code",
      "execution_count": null,
      "metadata": {
        "colab": {
          "base_uri": "https://localhost:8080/",
          "height": 630
        },
        "id": "UfOhaJkZk0Pt",
        "outputId": "217288c9-389e-491f-9d49-0b34089470d2"
      },
      "outputs": [
        {
          "output_type": "stream",
          "name": "stdout",
          "text": [
            "Setting queue=True in a Colab notebook requires sharing enabled. Setting `share=True` (you can turn this off by setting `share=False` in `launch()` explicitly).\n",
            "\n",
            "Colab notebook detected. This cell will run indefinitely so that you can see errors and logs. To turn off, set debug=False in launch().\n",
            "Running on public URL: https://ffab91264fcdf09c64.gradio.live\n",
            "\n",
            "This share link expires in 72 hours. For free permanent hosting and GPU upgrades, run `gradio deploy` from Terminal to deploy to Spaces (https://huggingface.co/spaces)\n"
          ]
        },
        {
          "output_type": "display_data",
          "data": {
            "text/plain": [
              "<IPython.core.display.HTML object>"
            ],
            "text/html": [
              "<div><iframe src=\"https://ffab91264fcdf09c64.gradio.live\" width=\"100%\" height=\"500\" allow=\"autoplay; camera; microphone; clipboard-read; clipboard-write;\" frameborder=\"0\" allowfullscreen></iframe></div>"
            ]
          },
          "metadata": {}
        }
      ],
      "source": [
        "inputs = [\n",
        "    gr.Image(type='numpy', label=\"Input original image\"),\n",
        "    # gr.Image(type='numpy', label=\"Input original mask\"),\n",
        "]\n",
        "outputs = [gr.Textbox(label=\"Basic image information\"), # img info\n",
        "            gr.Plot(label=\"img histogram\"), # histogram\n",
        "            gr.Image(label=\"avg filtering\"), # avg filtering\n",
        "            gr.Image(label=\"median filtering\"), # median filtering\n",
        "            gr.Textbox(label=\"psnr value\"), # psnr value\n",
        "            gr.Image(label=\"kapur_segmentation\"), # segmentation Kapur method\n",
        "            gr.Image(label=\"otsu_segmentation\"), # segmentation Otsu method\n",
        "        ]\n",
        "\n",
        "iface = gr.Interface(fn=main_function,\n",
        "                     inputs=inputs,\n",
        "                     outputs=outputs)\n",
        "\n",
        "iface.launch(debug=True)"
      ]
    },
    {
      "cell_type": "code",
      "execution_count": null,
      "metadata": {
        "id": "a0Bu9U7HJohH"
      },
      "outputs": [],
      "source": [
        "iface.close()"
      ]
    }
  ],
  "metadata": {
    "colab": {
      "provenance": [],
      "authorship_tag": "ABX9TyOrZFHh/Pgcm0eD3iJ+hO1b",
      "include_colab_link": true
    },
    "kernelspec": {
      "display_name": "Python 3",
      "name": "python3"
    },
    "language_info": {
      "name": "python"
    }
  },
  "nbformat": 4,
  "nbformat_minor": 0
}